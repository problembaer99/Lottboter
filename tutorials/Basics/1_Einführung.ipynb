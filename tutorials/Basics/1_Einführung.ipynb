{
 "cells": [
  {
   "cell_type": "markdown",
   "metadata": {},
   "source": [
    "# NUMERISCHES RECHNEN MACHT SPASS"
   ]
  },
  {
   "cell_type": "markdown",
   "metadata": {},
   "source": [
    "### Eine Einführung zu den Grundlagen der Informatik und des numerischen Rechnens für alle Altersgruppen\n",
    "---"
   ]
  },
  {
   "cell_type": "markdown",
   "metadata": {},
   "source": [
    "Neben der Sprache Python und dem Jupyter-Notebook werden wir auch einige sehr interessante mathematische Konzepte kennenlernen, nämlich Primzahlen."
   ]
  },
  {
   "cell_type": "markdown",
   "metadata": {},
   "source": [
    "<img width='400px' align='left' src='https://paulstepahin.files.wordpress.com/2012/12/table.png?w=500&h=327'>"
   ]
  },
  {
   "cell_type": "markdown",
   "metadata": {},
   "source": [
    "Primzahlen sind die Zahlen, aus denen alle anderen Zahlen zusammengesetzt sind. Das bedeutet, dass jede Zahl, die nur durch 1 oder sich selbst teilbar ist, eine Primzahl ist. Folglich ist jede Zahl, die durch eine andere Zahl als 1 oder sich selbst teilbar ist, keine Primzahl. Das Auffinden von Primzahlen, insbesondere von sehr großen Zahlen, ist eines der großen Rätsel der Mathematik. Dieses Problem, das Finden von Primzahlen, ist auch eine der besten Möglichkeiten, die Magie des numerischen Rechnens auf interessante und unterhaltsame Weise kennenzulernen! Also los, machen wir's!"
   ]
  },
  {
   "cell_type": "markdown",
   "metadata": {},
   "source": [
    "------------------"
   ]
  },
  {
   "cell_type": "markdown",
   "metadata": {},
   "source": [
    "# Teil 1 : Einführung in Python"
   ]
  },
  {
   "cell_type": "markdown",
   "metadata": {},
   "source": [
    "Die Sprache Python ist ein sehr mächtiges Werkzeug für die Erstellung von Computerprogrammen aller Art, aber heute werden wir uns nur darauf konzentrieren, wie man einige sehr grundlegende Techniken und Ideen ausführt, die in allen Computerprogrammiersprachen vorkommen."
   ]
  },
  {
   "cell_type": "markdown",
   "metadata": {},
   "source": [
    "### 1.1 Hello World"
   ]
  },
  {
   "cell_type": "markdown",
   "metadata": {},
   "source": [
    "Seit jeher ziehen es Computerprogrammierer vor, eine neue Sprache zu lernen, indem sie ein kurzes Programm erstellen, das \"Hallo Welt\" sagt. Wir werden also auch mit diesem klassischen Beispiel beginnen, bevor wir zu den mathematischen Dingen übergehen!"
   ]
  },
  {
   "cell_type": "code",
   "execution_count": null,
   "metadata": {},
   "outputs": [],
   "source": [
    "print(\"Hallo\")"
   ]
  },
  {
   "cell_type": "markdown",
   "metadata": {},
   "source": [
    "<img align='left' src='https://i.pinimg.com/originals/90/6a/d9/906ad9a5dc4ed6ee65fd1b03d63e1663.gif'>"
   ]
  },
  {
   "cell_type": "markdown",
   "metadata": {},
   "source": [
    "Glückwunsch, jetzt weißt Du, wie man ein einfaches Programm in Python schreibt! Aber es gibt noch viel zu lernen, also machen wir weiter :)"
   ]
  },
  {
   "cell_type": "markdown",
   "metadata": {},
   "source": [
    "### 1.2. Mathematische Operationen"
   ]
  },
  {
   "cell_type": "markdown",
   "metadata": {},
   "source": [
    "Beginnen wir mit einigen grundlegenden mathematischen Operationen."
   ]
  },
  {
   "cell_type": "code",
   "execution_count": null,
   "metadata": {},
   "outputs": [],
   "source": [
    "1 + 1"
   ]
  },
  {
   "cell_type": "code",
   "execution_count": null,
   "metadata": {},
   "outputs": [],
   "source": [
    "2 * 2"
   ]
  },
  {
   "cell_type": "code",
   "execution_count": null,
   "metadata": {},
   "outputs": [],
   "source": [
    "4 / 2"
   ]
  },
  {
   "cell_type": "code",
   "execution_count": null,
   "metadata": {},
   "outputs": [],
   "source": [
    "5 - 3"
   ]
  },
  {
   "cell_type": "markdown",
   "metadata": {},
   "source": [
    "So einfach ist das!\n",
    "\n",
    "Wie Du siehst, könnte es nicht einfacher sein, gängige mathematische Operationen durchzuführen. Es funktioniert sogar genau so, wie wir es mit Stift und Papier machen würden! Die Sprache Python ist so, sie ist sehr intuitiv und leicht zu erlernen :)"
   ]
  },
  {
   "cell_type": "markdown",
   "metadata": {},
   "source": [
    "<img width='100px' align='left' src='https://i.pinimg.com/736x/99/95/cd/9995cd666590bd8049ed559beb9acf3b--shocked-emoji-wall-prints.jpg'>\n",
    "\n"
   ]
  },
  {
   "cell_type": "markdown",
   "metadata": {},
   "source": [
    "### 1.3. Datentypen"
   ]
  },
  {
   "cell_type": "markdown",
   "metadata": {},
   "source": [
    "Dieses nächste Konzept wird zunächst etwas seltsam erscheinen, ist aber sehr leicht zu verstehen. Man muss nur wissen, dass Computer mit Informationen anders umgehen als wir Menschen. Um dies zu verstehen, werden wir nun kurz die Idee des \"Typs\" erläutern. Am wichtigsten sind zwei verschiedene numerische Datentypen: float (Dezimalzahlen) und int (ganze Zahlen).\n",
    "\n",
    "#### Beispiele für \"ints\"\n",
    "\n",
    "1, 2, 5, 6, 123, 345\n",
    "\n",
    "#### Beispiele für \"floats\" \n",
    "\n",
    "0.1, 0.00004, 0.234\n",
    "\n",
    "Versuchen wir nun, dieses Konzept anhand einiger Beispiele zu verdeutlichen."
   ]
  },
  {
   "cell_type": "code",
   "execution_count": null,
   "metadata": {},
   "outputs": [],
   "source": [
    "2 + 3"
   ]
  },
  {
   "cell_type": "markdown",
   "metadata": {},
   "source": [
    "Das war eine ganze Zahl (int)."
   ]
  },
  {
   "cell_type": "code",
   "execution_count": null,
   "metadata": {},
   "outputs": [],
   "source": [
    "2 / 3"
   ]
  },
  {
   "cell_type": "markdown",
   "metadata": {},
   "source": [
    "Und das war eine Dezimalzahl/Fließkommawert (float). Wir werden später noch mehr über die verschiedenen Typen lernen. Jetzt reicht es, wenn wir verstehen, dass Computerprogramme in der Regel so etwas wie einen Typ beinhalten."
   ]
  },
  {
   "cell_type": "markdown",
   "metadata": {},
   "source": [
    "### 1.4. Funktionen"
   ]
  },
  {
   "cell_type": "markdown",
   "metadata": {},
   "source": [
    "Das dritte Konzept, das wir lernen werden, heißt \"Funktion\". Wie der Name schon sagt, handelt es sich um ein Dienstprogramm, das eine Funktion ausführt.   \n",
    "\n",
    "Es gibt zum Beispiel eine Funktion, die es uns ermöglicht, den Typ von Daten zu identifizieren (den gleichen Typ, den wir in den vorherigen Beispielen gerade durchgenommen haben). Eigentlich haben wir bereits eine Funktion verwendet... die print()-Funktion für unser \"Hallo Welt\"-Beispiel am Anfang."
   ]
  },
  {
   "cell_type": "code",
   "execution_count": null,
   "metadata": {},
   "outputs": [],
   "source": [
    "type(3)"
   ]
  },
  {
   "cell_type": "code",
   "execution_count": null,
   "metadata": {},
   "outputs": [],
   "source": [
    "type(3.0)"
   ]
  },
  {
   "cell_type": "markdown",
   "metadata": {},
   "source": [
    "Aus dem Beispiel \"Hallo Welt\" wissen Sie vielleicht noch, dass wir mit Text umgehen können, indem wir ihn in Anführungszeichen setzen:"
   ]
  },
  {
   "cell_type": "code",
   "execution_count": null,
   "metadata": {},
   "outputs": [],
   "source": [
    "print(\"Hallo Welt\")"
   ]
  },
  {
   "cell_type": "markdown",
   "metadata": {},
   "source": [
    "Einfache Anführungszeichen funktionieren auch:"
   ]
  },
  {
   "cell_type": "code",
   "execution_count": null,
   "metadata": {},
   "outputs": [],
   "source": [
    "print('Hallo Welt')"
   ]
  },
  {
   "cell_type": "markdown",
   "metadata": {},
   "source": [
    "Wenn etwas in Anführungszeichen eingeschlossen ist, entweder doppelt (\") oder einfach ('), betrachtet Python es als einen dritten Datentyp namens \"String\" (kurz: str), was \"Zeichenkette\" bedeutet."
   ]
  },
  {
   "cell_type": "code",
   "execution_count": null,
   "metadata": {},
   "outputs": [],
   "source": [
    "type('3')"
   ]
  },
  {
   "cell_type": "markdown",
   "metadata": {},
   "source": [
    "Anders als bei den Zahlentypen (float und int) können mit Strings keine mathematischen Operationen durchgeführt werden. Stattdessen werden zwei Strings miteinander verbunden."
   ]
  },
  {
   "cell_type": "code",
   "execution_count": null,
   "metadata": {},
   "outputs": [],
   "source": [
    "'3' + '3'"
   ]
  },
  {
   "cell_type": "markdown",
   "metadata": {},
   "source": [
    "Man kann auch Typen ineinander umwandeln:"
   ]
  },
  {
   "cell_type": "code",
   "execution_count": null,
   "metadata": {},
   "outputs": [],
   "source": [
    "str(33)"
   ]
  },
  {
   "cell_type": "code",
   "execution_count": null,
   "metadata": {},
   "outputs": [],
   "source": [
    "int('44')"
   ]
  },
  {
   "cell_type": "markdown",
   "metadata": {},
   "source": [
    "Der Aufruf von Funktionen ist sehr einfach, und es gibt viele davon. Das bedeutet, dass man viele verschiedene spannende und nützliche Dinge tun kann, indem man einfach eine Funktion aufruft, die man auf die Art und Weise verwenden möchte, wie wir es gerade getan haben.  \n",
    "\n",
    "Du kannst sogar Deine eigenen Funktionen erstellen!"
   ]
  },
  {
   "cell_type": "code",
   "execution_count": null,
   "metadata": {},
   "outputs": [],
   "source": [
    "def meine_funktion():\n",
    "    \n",
    "    print(\"Hallo Welt\") "
   ]
  },
  {
   "cell_type": "markdown",
   "metadata": {},
   "source": [
    "Bevor wir es ausprobieren, wollen wir kurz zusammenfassen, was hier passiert. Zuerst deklarieren wir unsere eigene Funktion mit `def`, was nur bedeutet, dass wir als nächstes eine Funktion definieren werden. Dann folgt der Name unserer Funktion `meine_funtion` und danach eine Klammer mit Doppelpunkt. Das war's! Nun wollen wir sehen, wie wir unsere Funktion verwenden."
   ]
  },
  {
   "cell_type": "code",
   "execution_count": null,
   "metadata": {},
   "outputs": [],
   "source": [
    "meine_funktion()"
   ]
  },
  {
   "cell_type": "markdown",
   "metadata": {},
   "source": [
    "Wie Du vielleicht schon erraten hast, verwenden wir sie genauso wie die Funktionen print() und type() in den obigen Beispielen. Du hast vielleicht auch einen Unterschied bemerkt, nämlich dass wir innerhalb der Klammern von `meine_funktion()` keine Eingaben machen.  \n",
    "\n",
    "Dies führt uns zu einem weiteren grundlegenden Baustein für das Verständnis der Computerprogrammierung: *Es gibt Funktionen, und es gibt Eingaben für diese Funktionen.*\n",
    "\n",
    "Die Funktion ist das, was passiert, eine Art Vorgang, und die Eingabe ist das, mit dem der Vorgang passiert. Ändern wir unsere Funktion ein wenig, um mehr darüber zu erfahren."
   ]
  },
  {
   "cell_type": "code",
   "execution_count": null,
   "metadata": {},
   "outputs": [],
   "source": [
    "def meine_verbesserte_funktion(\"mein bruder ist cool\"):\n",
    "    \n",
    "    \n"
   ]
  },
  {
   "cell_type": "markdown",
   "metadata": {},
   "source": [
    "Wie Du sehen kannst, haben wir die Art und Weise, wie die Funktion definiert ist, leicht geändert. Anstatt leere Klammern nach dem Namen der Funktion zu setzen, benennen wir dort nun Daten (was \"Information\" bedeutet). Auf diese Weise werden die Daten zu einem \"Parameter\", auch \"Argument\" genannt, was eigentlich nur ein schickes Wort für etwas ist, das wir in die Funktion eingeben, damit die Funktion es verarbeiten kann. Probieren wir es zuerst aus..."
   ]
  },
  {
   "cell_type": "code",
   "execution_count": null,
   "metadata": {},
   "outputs": [],
   "source": [
    "gefühle = input(\"hallo olli, wie geht es dir heute?\")"
   ]
  },
  {
   "cell_type": "markdown",
   "metadata": {},
   "source": [
    "Ah, unsere erste Fehlermeldung. Wenn etwas nicht in Ordnung ist, wird Python uns genau sagen, was falsch ist. In diesem Fall sagt uns die Fehlermeldung, dass unsere Funktion zwar ein Argument (daten) erwartet, es aber nicht bekommt. Geben wir unserer Funktion eine Eingabe und sehen wir, was passiert."
   ]
  },
  {
   "cell_type": "code",
   "execution_count": null,
   "metadata": {},
   "outputs": [],
   "source": [
    "meine_verbesserte_funktion(\"Hallo Lotta\")"
   ]
  },
  {
   "cell_type": "markdown",
   "metadata": {},
   "source": [
    "Das ist schon besser. Das macht die Funktion um einiges nützlicher als die erste Version, die jedes Mal nur den gleichen Satz \"Hallo Welt\" ausgab. Tatsächlich können wir jetzt mit der gleichen Funktion alles drucken, was wir wollen."
   ]
  },
  {
   "cell_type": "code",
   "execution_count": null,
   "metadata": {},
   "outputs": [],
   "source": [
    "meine_verbesserte_funktion(\"Mein Name ist Lotta und ich programmiere mit Python!\")"
   ]
  },
  {
   "cell_type": "markdown",
   "metadata": {},
   "source": [
    "Super. Jetzt haben wir hier die grundlegenden Konzepte gelernt und setzen sie in der nächsten Folge mit etwas Interessantem in die Praxis um. Aber zuerst fassen wir das Gelernte aus diesem einführenden Teil zusammen.\n",
    "\n",
    "### Teil 1 Zusammenfassung\n",
    "\n",
    "- `print()` ist der Befehl, um etwas auf den Bildschirm zu drucken\n",
    "- Mathematische Operationen sind in Python sehr einfach durchzuführen\n",
    "- Python geht mit Zahlen auf der Grundlage von Datentypen um\n",
    "- In Python gibt es zwei numerische Datentypen: ***Int*** und ***Float***\n",
    "- Der Datentyp ***String*** kann nicht für mathematische Operationen verwendet werden.\n",
    "- Funktionen sind mächtige Werkzeuge zur einfachen Durchführung von Operationen \n",
    "- Funktionen können Argumente (Parameter) als Eingabe akzeptieren. \n",
    "- Funktionen sind Computerprozesse, und Argumente sind das, was verarbeitet wird.\n",
    "- Es ist sehr einfach, eigene Funktionen zu erstellen\n",
    "\n",
    "Das war's mit der Einführung. Eigentlich hast Du an dieser Stelle schon viel mehr gelernt, als Dir bewusst ist. Selbst wenn Du der beste Programmierer der Welt würden, wären diese Ideen einige der wichtigsten Bausteine, die Du immer wieder verwenden würdest. Gut gemacht, dass Du so weit gekommen bist! \n",
    "\n",
    "Wir sind noch nicht ganz bis zu den Primzahlen gekommen, also werden wir das im nächsten Teil behandeln..."
   ]
  },
  {
   "cell_type": "markdown",
   "metadata": {
    "collapsed": true
   },
   "source": [
    "<img width='400px' align='left' src='https://media.tenor.com/images/48b90c5c6f1145cb8b9931384732e3d3/tenor.gif'>"
   ]
  }
 ],
 "metadata": {
  "kernelspec": {
   "display_name": "Python 3",
   "language": "python",
   "name": "python3"
  },
  "language_info": {
   "codemirror_mode": {
    "name": "ipython",
    "version": 3
   },
   "file_extension": ".py",
   "mimetype": "text/x-python",
   "name": "python",
   "nbconvert_exporter": "python",
   "pygments_lexer": "ipython3",
   "version": "3.11.5"
  }
 },
 "nbformat": 4,
 "nbformat_minor": 1
}
