{
 "cells": [
  {
   "cell_type": "markdown",
   "metadata": {},
   "source": [
    "# NUMERISCHES RECHNEN MACHT SPASS"
   ]
  },
  {
   "cell_type": "markdown",
   "metadata": {},
   "source": [
    "### Eine Einführung zu den Grundlagen der Informatik und des numerischen Rechnens für alle Altersgruppen\n",
    "---"
   ]
  },
  {
   "cell_type": "markdown",
   "metadata": {},
   "source": [
    "# ÜBERBLICK ÜBER TEIL 4"
   ]
  },
  {
   "cell_type": "markdown",
   "metadata": {},
   "source": [
    "In diesem vierten Teil werden wir das, was wir in Teil 1, Teil 2 und Teil 3 der Serie gelernt haben, in die Praxis umsetzen. \n",
    "\n",
    "Wir werden uns eingehender mit der Bedeutung von Algorithmen beschäftigen, insbesondere im Zusammenhang mit der Idee der Automatisierung. Die meisten Computerprogramme dienen dazu, Dinge zu automatisieren, damit Menschen stattdessen menschliche Aufgaben erledigen können. Zumindest ist das die Idee.\n",
    "\n",
    "Zur Erinnerung an Teil 1: Primzahlen sind die Zahlen, aus denen alle anderen Zahlen aufgebaut sind. Das bedeutet, dass jede Zahl, die nur durch 1 oder sich selbst teilbar ist, eine Primzahl ist. Folglich ist jede Zahl, die durch eine andere Zahl als 1 oder sich selbst teilbar ist, keine Primzahl."
   ]
  },
  {
   "cell_type": "markdown",
   "metadata": {},
   "source": [
    "<img width='600px' align='left' src='https://cdn-images-1.medium.com/max/1600/1*1hT23VteSYhRbOaUtCcuEg.gif'>"
   ]
  },
  {
   "cell_type": "markdown",
   "metadata": {},
   "source": [
    "Erinnerst Du dich daran, wie wir den Algorithmus als so etwas wie eine Fabrik definiert haben? Bei der Automatisierung geht es um all diese Algorithmen in ihrer Gesamtheit, aber auch um alle ihre einzelnen Bestandteile. Alle diese winzigen Codestücke zusammen bilden das, was wir als Automatisierung bezeichnen."
   ]
  },
  {
   "cell_type": "markdown",
   "metadata": {},
   "source": [
    "# TEIL 4 : Prozessautomatisierung"
   ]
  },
  {
   "cell_type": "markdown",
   "metadata": {},
   "source": [
    "Wir haben bereits einfache Algorithmen (\"Algos\") in Teil 3 erstellt. Bevor wir unseren Algorithmus weiter ausbauen, wollen wir uns mit der Erzeugung (=\"Generierung\") von Zahlen beschäftigen. Das ist ein perfektes Beispiel dafür, wie Computer uns helfen, langwierige Vorgänge (=\"Prozesse\") zu automatisieren."
   ]
  },
  {
   "cell_type": "markdown",
   "metadata": {},
   "source": [
    "### 4.1. Zahlen generieren"
   ]
  },
  {
   "cell_type": "markdown",
   "metadata": {},
   "source": [
    "Bevor wir zum Hauptteil dieses Teils übergehen, in dem es um Schleifen, eine weitere Methode der Ablaufsteuerung, geht, sollten wir uns mit der Idee vertraut machen und etwas Spaß bei der Zahlengenerierung haben.\n",
    "\n",
    "Die Zahlengenerierung wird uns bald nützlich sein, damit wir nicht die vielen Zahlen eingeben müssen, die wir daraufhin überprüfen wollen, ob sie Primzahlen sind oder nicht. Dazu werden wir eine `for`-Anweisung verwenden. Aber zuerst wollen wir etwas über `range` lernen, eine nette kleine Funktion, die in Python enthalten ist."
   ]
  },
  {
   "cell_type": "code",
   "execution_count": 1,
   "metadata": {},
   "outputs": [
    {
     "data": {
      "text/plain": [
       "range(0, 10)"
      ]
     },
     "execution_count": 1,
     "metadata": {},
     "output_type": "execute_result"
    }
   ],
   "source": [
    "range(10)"
   ]
  },
  {
   "cell_type": "markdown",
   "metadata": {},
   "source": [
    "Im einfachsten Fall nimmt `range` eine Zahl und erstellt eine Zahlenfolge von 0 bis zur eingegebenen Zahl. In diesem Fall haben wir, obwohl wir die Zahlen noch nicht sehen können, eine Folge von 0, 1, 2, 3, 4, 5, 6, 7, 8, 9 erstellt.\n",
    "\n",
    "Du fragst dich vielleicht, warum wir keine 10 erhalten, sondern bei 9 aufhören, obwohl wir 10 eingegeben haben. In Python und den meisten anderen Programmiersprachen beginnt die Zählung immer bei 0. \n",
    "\n",
    "Greifen wir nun auf die Zahlen zu, die wir erzeugen."
   ]
  },
  {
   "cell_type": "code",
   "execution_count": 2,
   "metadata": {},
   "outputs": [
    {
     "name": "stdout",
     "output_type": "stream",
     "text": [
      "0\n",
      "1\n",
      "2\n",
      "3\n",
      "4\n",
      "5\n",
      "6\n",
      "7\n",
      "8\n",
      "9\n"
     ]
    }
   ],
   "source": [
    "for zahl in range(10):\n",
    "    print(zahl)"
   ]
  },
  {
   "attachments": {
    "loop.gif": {
     "image/gif": "[encoded data removed]"
    }
   },
   "cell_type": "markdown",
   "metadata": {},
   "source": [
    "Schauen wir uns an, was wir hier gemacht haben:\n",
    "- Zuerst sagen wir mit `for`, dass wir etwas für eine bestimmete Anzahl oft wiederholen wollen. Wir sprechen davon, dass wir eine \"Schleife\" durchlaufen, also immer wieder das gleiche machen.  \n",
    "![loop.gif](attachment:loop.gif)\n",
    "- Die Veränderliche =(\"Variable\") `zahl` zeigt uns an, bei welchen Durchlauf der Schleife wir gerade sind.  \n",
    "- Mit `range(10)` erstellen wir eine Folge von Zahlen von 0 bis 9. Wie Du siehst, ist `print(zahl)` eingerückt, was bedeutet, dass es innerhalb der Schleife ausgeführt wird. Beachte , dass `zahl` beliebig oft in der Schleife verwendet werden kann!  \n",
    "- `range` kann verwendet werden, um eine beliebige Folge von Ganzzahlen zu erzeugen, indem man die Anfangs- und Endposition der Folge definiert."
   ]
  },
  {
   "cell_type": "code",
   "execution_count": 24,
   "metadata": {},
   "outputs": [
    {
     "name": "stdout",
     "output_type": "stream",
     "text": [
      "11\n",
      "12\n",
      "13\n",
      "14\n",
      "15\n",
      "16\n",
      "17\n"
     ]
    }
   ],
   "source": [
    "for i in range(11, 18):\n",
    "    print(i)"
   ]
  },
  {
   "cell_type": "markdown",
   "metadata": {},
   "source": [
    "Wir können auch ein \"Schritt\"-Argument hinzufügen, das uns noch mehr Kontrolle über den Zahlenbereich gibt, den wir erstellen wollen. Mit dem Schritt-Argument 2 erhalten wir zum Beispiel jede zweite Zahl in einem Bereich:"
   ]
  },
  {
   "cell_type": "code",
   "execution_count": 25,
   "metadata": {},
   "outputs": [
    {
     "name": "stdout",
     "output_type": "stream",
     "text": [
      "2\n",
      "4\n",
      "6\n",
      "8\n",
      "10\n",
      "12\n",
      "14\n",
      "16\n",
      "18\n"
     ]
    }
   ],
   "source": [
    "for i in range(2, 20, 2):\n",
    "    print(i)"
   ]
  },
  {
   "cell_type": "markdown",
   "metadata": {},
   "source": [
    "Auf diese Weise erhalten wir nur die geraden Zahlen zwischen 2 und 20. Versuchen wir das Gleiche für ungerade Zahlen."
   ]
  },
  {
   "cell_type": "code",
   "execution_count": 3,
   "metadata": {},
   "outputs": [
    {
     "name": "stdout",
     "output_type": "stream",
     "text": [
      "1\n",
      "3\n",
      "5\n",
      "7\n",
      "9\n",
      "11\n",
      "13\n",
      "15\n",
      "17\n",
      "19\n"
     ]
    }
   ],
   "source": [
    "for i in range(1, 20, 2):\n",
    "    print(i)"
   ]
  },
  {
   "cell_type": "markdown",
   "metadata": {},
   "source": [
    "Du hast jetzt eine sehr nützliche und oft anwendbare Prozessautomatisierung gelernt: die Zahlengenerierung. Wir haben gelernt, wie man eine beliebige Folge von Zahlen schreibt, einschließlich gerader oder ungerader Zahlen.\n",
    "\n",
    "Es gibt noch viele andere Möglichkeiten, Zahlen zu erzeugen, darunter auch Zufallszahlen, aber für das, was wir tun wollen, ist das mehr als genug. Gehen wir zum nächsten Abschnitt über und lernen wir etwas über Schleifen."
   ]
  },
  {
   "cell_type": "markdown",
   "metadata": {},
   "source": [
    "As you see, loops are just as easy and intuitive to use in Python language as everything else we've learn so far. A <code>for` loop gives us a useful way to say that some process will go on *for* as long as something is true. Consider this example: "
   ]
  },
  {
   "cell_type": "markdown",
   "metadata": {},
   "source": [
    "### 4.2. Etwas in einer Variablen speichern"
   ]
  },
  {
   "cell_type": "markdown",
   "metadata": {},
   "source": [
    "Nun, da Du einen weiteren grundlegenden Baustein der numerischen Datenverarbeitung kennengelernt haben, können wir zu unserem Primzahl-Algorithmus zurückkehren.   \n",
    "\n",
    "Beginnen wir damit, das Gelernte in unserem Algorithmus anzuwenden, und führen wir ein weiteres neues Konzept ein (ich verspreche, es ist das letzte für eine Weile): \n",
    "> Das Speichern von Etwas/eines Wertes in einer Variablen. Das Speichern im Computerspeicher ist nicht mit dem Speichern von etwas im menschlichen Gedächtnis zu vergleichen."
   ]
  },
  {
   "cell_type": "markdown",
   "metadata": {},
   "source": [
    "<img width='400px' align='left' src='http://www.mortgagecalculator.org/images/safety-deposit-box.jpg'>"
   ]
  },
  {
   "cell_type": "markdown",
   "metadata": {},
   "source": [
    "Auch wenn wir davon sprechen, etwas zu speichern, ist es nicht so, als würde man etwas in einem Bankschließfach aufbewahren, wo die Dinge für lange Zeit aufbewahrt werden. Der Computerspeicher ist ein temporärer (zeitlich begrenzter) Speicher für etwas, das wir als Teil unseres Computerprogramms verwenden werden. Sehen wir uns einige Beispiele an."
   ]
  },
  {
   "cell_type": "code",
   "execution_count": 30,
   "metadata": {},
   "outputs": [],
   "source": [
    "speicher = 1"
   ]
  },
  {
   "cell_type": "code",
   "execution_count": 31,
   "metadata": {},
   "outputs": [
    {
     "name": "stdout",
     "output_type": "stream",
     "text": [
      "1\n"
     ]
    }
   ],
   "source": [
    "print(speicher)"
   ]
  },
  {
   "cell_type": "markdown",
   "metadata": {},
   "source": [
    "In Python kann im Grunde alles in einer Variablen gespeichert werden. Das ist sehr einfach. Außerdem müssen wir nicht `print` verwenden, um auf den Inhalt einer Variablen zuzugreifen."
   ]
  },
  {
   "cell_type": "code",
   "execution_count": 32,
   "metadata": {},
   "outputs": [
    {
     "data": {
      "text/plain": [
       "1"
      ]
     },
     "execution_count": 32,
     "metadata": {},
     "output_type": "execute_result"
    }
   ],
   "source": [
    "speicher"
   ]
  },
  {
   "cell_type": "markdown",
   "metadata": {},
   "source": [
    "In den nächsten beiden Beispielen wirst Du einen Vorgeschmack darauf bekommen, wie etwas in einer Variablen gespeichert werden kann, um später darauf zuzugreifen."
   ]
  },
  {
   "cell_type": "code",
   "execution_count": 1,
   "metadata": {},
   "outputs": [
    {
     "data": {
      "text/plain": [
       "False"
      ]
     },
     "execution_count": 1,
     "metadata": {},
     "output_type": "execute_result"
    }
   ],
   "source": [
    "antwort =  1 == 2\n",
    "antwort"
   ]
  },
  {
   "cell_type": "code",
   "execution_count": 2,
   "metadata": {},
   "outputs": [
    {
     "name": "stdout",
     "output_type": "stream",
     "text": [
      "hello\n"
     ]
    }
   ],
   "source": [
    "print_hello = print('hello')\n",
    "print_hello"
   ]
  },
  {
   "cell_type": "markdown",
   "metadata": {},
   "source": [
    "Die Möglichkeit, Dinge in Variablen zu speichern, ist sehr leistungsfähig, insbesondere wenn wir denselben Wert mehrmals verwenden wollen.  \n",
    "\n",
    "Wir könnten diesen Ansatz zum Beispiel verwenden, um die neueste Version unseres Algorithmus zu vereinfachen. Beachte, dass wir dieselbe Operation zweimal verwenden:"
   ]
  },
  {
   "cell_type": "code",
   "execution_count": 42,
   "metadata": {},
   "outputs": [],
   "source": [
    "def dritter_algo(links, rechts):\n",
    "    \n",
    "    # es regnet nicht\n",
    "    if links % rechts == 0:\n",
    "        return 'Fußballspielen'\n",
    "    \n",
    "    # es regnet es wenig\n",
    "    elif links % rechts == 1: \n",
    "        return 'Spazierengehen'\n",
    "    \n",
    "    # es regnet stark\n",
    "    else: \n",
    "        return 'Playstation spielen'"
   ]
  },
  {
   "cell_type": "markdown",
   "metadata": {},
   "source": [
    "Nun wollen wir eine kleine Vereinfachung vornehmen, indem wir die Operation, die wir zweimal durchführen, zuerst im Speicher ablegen."
   ]
  },
  {
   "cell_type": "code",
   "execution_count": 11,
   "metadata": {},
   "outputs": [],
   "source": [
    "def vierter_algo(links, rechts):\n",
    "    \n",
    "    speicher = links % rechts\n",
    "    \n",
    "    # es regnet nicht\n",
    "    if speicher == 0:\n",
    "        return 'Fußballspielen'\n",
    "    \n",
    "    # es regnet es wenig\n",
    "    elif speicher == 1: \n",
    "        return 'Spazierengehen'\n",
    "    \n",
    "    # es regnet stark\n",
    "    else: \n",
    "        return 'Playstation spielen'"
   ]
  },
  {
   "cell_type": "code",
   "execution_count": 12,
   "metadata": {},
   "outputs": [
    {
     "data": {
      "text/plain": [
       "'Spazierengehen'"
      ]
     },
     "execution_count": 12,
     "metadata": {},
     "output_type": "execute_result"
    }
   ],
   "source": [
    "vierter_algo(10,3)"
   ]
  },
  {
   "cell_type": "markdown",
   "metadata": {},
   "source": [
    "Bevor wir zum Schluss kommen, wollen wir alles, was wir gelernt haben, in einem Beispiel zusammenfassen."
   ]
  },
  {
   "cell_type": "markdown",
   "metadata": {},
   "source": [
    "### 3.5. Alles zusammengefügt"
   ]
  },
  {
   "cell_type": "markdown",
   "metadata": {},
   "source": [
    "In folgenden Abschnitt wird unser Algorithmus (Funktion) immer länger. Aber wenn Du genau hinschaust, wirst Du feststellen, dass die Änderungen, die wir vornehmen, eigentlich sehr gering sind. Außerdem nehmen wir nur Änderungen vor, die Du bereits gelernt haben."
   ]
  },
  {
   "cell_type": "code",
   "execution_count": 3,
   "metadata": {},
   "outputs": [
    {
     "name": "stdout",
     "output_type": "stream",
     "text": [
      "True\n",
      "True\n",
      "True\n",
      "True\n",
      "True\n",
      "True\n",
      "True\n",
      "True\n",
      "True\n"
     ]
    }
   ],
   "source": [
    "# als erstes erzeugen wir ein Reiher von Zahlen\n",
    "zahlen = range(1, 10)\n",
    "\n",
    "# dann erzeugen wir eine Schleife\n",
    "for zahl in zahlen: \n",
    "    \n",
    "    # jetzt führen wir die Modulus-Operation durch \n",
    "    ergebnis = zahl % zahl\n",
    "    \n",
    "    # und prüfen das Ergebnis anhand von Bedigungen\n",
    "    if ergebnis == 0: \n",
    "        print(True)\n",
    "    else: \n",
    "        print(False)"
   ]
  },
  {
   "cell_type": "markdown",
   "metadata": {},
   "source": [
    "Offensichtlich erhalten wir jedes Mal \"True\" als Ergebnis, weil die rechte und die linke Zahl immer gleich sind (z.B. 1 % 1, 2 % 2...). \n",
    "\n",
    "Lass uns nun eine kleine Änderung vornehmen, die uns einen Schritt näher an etwas heranbringt, das uns später beim Finden von Primzahlen sehr helfen wird. Diesmal lasse ich die Kommentare weg, damit der Code übersichtlich bleibt."
   ]
  },
  {
   "cell_type": "code",
   "execution_count": 5,
   "metadata": {},
   "outputs": [
    {
     "name": "stdout",
     "output_type": "stream",
     "text": [
      "1 True\n",
      "2 True\n",
      "3 False\n",
      "4 True\n",
      "5 True\n",
      "6 False\n",
      "7 False\n",
      "8 False\n",
      "9 False\n",
      "10 True\n",
      "11 False\n",
      "12 False\n",
      "13 False\n",
      "14 False\n",
      "15 False\n",
      "16 False\n",
      "17 False\n",
      "18 False\n",
      "19 False\n"
     ]
    }
   ],
   "source": [
    "links = 20\n",
    "rechte_zahlen = range(1, 20)\n",
    "\n",
    "for rechts in rechte_zahlen: \n",
    "    ergebnis = links % rechts\n",
    "    \n",
    "    if ergebnis == 0:         \n",
    "        print(rechts,True)\n",
    "        \n",
    "    else: \n",
    "        print(rechts,False)"
   ]
  },
  {
   "cell_type": "markdown",
   "metadata": {},
   "source": [
    "Was wir jetzt tun, ist, die linke Zahl auf 20 festzulegen und sie dann mit jeder Zahl im Bereich von 1 bis 20 zu vergleichen, um zu sehen, ob sie teilbar ist. Das macht die Prüfung, ob eine Zahl eine Primzahl ist, sehr viel einfacher! Versuchen wir ein Beispiel, bei dem wir wissen, dass es sich um eine Primzahl handelt, zum Beispiel 13 (sie ist durch keine andere Zahl als 1 und sich selbst teilbar)."
   ]
  },
  {
   "cell_type": "code",
   "execution_count": 10,
   "metadata": {},
   "outputs": [
    {
     "name": "stdout",
     "output_type": "stream",
     "text": [
      "1 True\n",
      "2 False\n",
      "3 False\n",
      "4 False\n",
      "5 False\n",
      "6 False\n",
      "7 False\n",
      "8 False\n",
      "9 False\n",
      "10 False\n",
      "11 False\n",
      "12 False\n",
      "13 True\n"
     ]
    }
   ],
   "source": [
    "links = 13  # <-- changed\n",
    "rechte_zahlen = range(1, 13)  # <-- changed\n",
    "\n",
    "for rechts in rechte_zahlen: \n",
    "    ergebnis = links % rechts\n",
    "    \n",
    "    if ergebnis == 0:         \n",
    "        print(rechts,True)\n",
    "        \n",
    "    else: \n",
    "        print(rechts,False)"
   ]
  },
  {
   "cell_type": "markdown",
   "metadata": {},
   "source": [
    "Da wir unseren Bereich bei 1 beginnen, erhält man am Anfang einen True, also müssen wir den Bereich stattdessen bei 2 beginnen, um die richtige Antwort zu erhalten. Wie Sie sehen können, habe ich die zweite Zeile so geändert, dass wir bis 12 scannen, was die letzte Zahl vor 13 ist. Fügen wir dies in eine Funktion als unsere fünfte Algo-Version ein und beginnen den Bereich bei 2 statt bei 1."
   ]
  },
  {
   "cell_type": "code",
   "execution_count": 16,
   "metadata": {},
   "outputs": [],
   "source": [
    "def fünfter_algo(links, rechts): \n",
    "\n",
    "    rechte_zahlen = range(2, rechts)   # <-- changed\n",
    "\n",
    "    for rechts in rechte_zahlen: # <-- changed\n",
    "        ergebnis = links % rechts\n",
    "\n",
    "        if ergebnis == 0:         \n",
    "            print(rechts,True)\n",
    "\n",
    "        else: \n",
    "            print(rechts,False)"
   ]
  },
  {
   "cell_type": "markdown",
   "metadata": {},
   "source": [
    "Jetzt sieht die Sache schon ganz gut aus. Wir könnten jetzt die Variable \"links\" ganz entfernen, da sie als Argument von der Funktion kommt, und anstatt die Funktion für die letzte Zahl des Bereichs ändern zu müssen, geben wir auch diese als Argument ein."
   ]
  },
  {
   "cell_type": "code",
   "execution_count": 23,
   "metadata": {},
   "outputs": [
    {
     "name": "stdout",
     "output_type": "stream",
     "text": [
      "2 False\n",
      "3 False\n",
      "4 False\n"
     ]
    }
   ],
   "source": [
    "fünfter_algo(7, 5)"
   ]
  },
  {
   "cell_type": "code",
   "execution_count": 24,
   "metadata": {},
   "outputs": [
    {
     "name": "stdout",
     "output_type": "stream",
     "text": [
      "2 False\n",
      "3 False\n",
      "4 False\n",
      "5 False\n",
      "6 False\n"
     ]
    }
   ],
   "source": [
    "fünfter_algo(7, 7)"
   ]
  },
  {
   "cell_type": "markdown",
   "metadata": {},
   "source": [
    "That's it, we're prime number checking now! :) Because the result is False for all, we know for sure that our input, in this case 7, is a prime. There is one more very small change we can do using the skill we've already learn to make a nice improvement to what we already have. Instead of requiring the user to input the end of the range, we can automatically compute it as it's always the last number before left. In other words, it's left - 1."
   ]
  },
  {
   "cell_type": "code",
   "execution_count": 21,
   "metadata": {},
   "outputs": [],
   "source": [
    "def sechster_algo(links):  # <-- changed\n",
    "\n",
    "    rechte_zahlen = range(2, links) # <-- changed\n",
    "\n",
    "    for rechts in rechte_zahlen:\n",
    "        ergebnis = links % rechts\n",
    "\n",
    "        if ergebnis == 0:         \n",
    "            print(rechts,True)\n",
    "\n",
    "        else: \n",
    "            print(rechts,False)"
   ]
  },
  {
   "cell_type": "code",
   "execution_count": 22,
   "metadata": {},
   "outputs": [
    {
     "name": "stdout",
     "output_type": "stream",
     "text": [
      "2 False\n",
      "3 True\n",
      "4 False\n",
      "5 False\n",
      "6 False\n",
      "7 False\n",
      "8 False\n"
     ]
    }
   ],
   "source": [
    "sechster_algo(9)"
   ]
  },
  {
   "cell_type": "code",
   "execution_count": 25,
   "metadata": {},
   "outputs": [
    {
     "name": "stdout",
     "output_type": "stream",
     "text": [
      "2 False\n",
      "3 False\n",
      "4 False\n",
      "5 False\n",
      "6 False\n",
      "7 False\n",
      "8 False\n",
      "9 False\n",
      "10 False\n"
     ]
    }
   ],
   "source": [
    "sechster_algo(11)"
   ]
  },
  {
   "cell_type": "code",
   "execution_count": 26,
   "metadata": {},
   "outputs": [
    {
     "name": "stdout",
     "output_type": "stream",
     "text": [
      "2 False\n",
      "3 False\n",
      "4 False\n",
      "5 False\n",
      "6 False\n",
      "7 False\n",
      "8 False\n",
      "9 False\n",
      "10 False\n",
      "11 False\n",
      "12 False\n",
      "13 False\n",
      "14 False\n",
      "15 False\n",
      "16 False\n",
      "17 False\n",
      "18 False\n"
     ]
    }
   ],
   "source": [
    "sechster_algo(19)"
   ]
  },
  {
   "cell_type": "markdown",
   "metadata": {},
   "source": [
    "Die Dinge funktionieren jetzt ganz gut. Allerdings werden wir bei diesem Ansatz später ein Problem mit größeren Zahlen haben, denn wenn wir 1.000 eingeben, werden wir 1.000 Wahr- oder Falsch-Werte auf dem Bildschirm sehen. Um dieses Problem zu lösen, können wir eine kleine Änderung an unserer neuesten Version vornehmen."
   ]
  },
  {
   "cell_type": "code",
   "execution_count": 28,
   "metadata": {},
   "outputs": [],
   "source": [
    "def siebter_algo(links):\n",
    "\n",
    "    rechte_zahlen = range(2, links)\n",
    "    ausgabe = 0 # <-- neu\n",
    "    \n",
    "    for rechts in rechte_zahlen:\n",
    "        ergebnis = links % rechts\n",
    "\n",
    "        if ergebnis == 0:         \n",
    "            ausgabe += 1 # <-- neu\n",
    "\n",
    "        else: \n",
    "            ausgabe += 0 # <-- neu\n",
    "            \n",
    "    return ausgabe # <-- changed"
   ]
  },
  {
   "cell_type": "markdown",
   "metadata": {},
   "source": [
    "Wir deklarieren zunächst eine Variable 'ausgabe' mit dem Startwert 0.  \n",
    "Dann fügen wir, anstatt True auszugeben, stillschweigend 1 zu output hinzu, und im Falle von False fügen wir 0 hinzu.   \n",
    "Erst am Ende geben wir den Wert aus, mit der return-Anweisung, die sich außerhalb der for-Schleife befindet (beachten Sie, dass die Einrückung gleich der for-Anweisung ist, was bedeutet, dass sie erst verarbeitet wird, wenn die for-Schleife ihre Arbeit beendet hat)."
   ]
  },
  {
   "cell_type": "code",
   "execution_count": 29,
   "metadata": {},
   "outputs": [
    {
     "data": {
      "text/plain": [
       "0"
      ]
     },
     "execution_count": 29,
     "metadata": {},
     "output_type": "execute_result"
    }
   ],
   "source": [
    "siebter_algo(19)"
   ]
  },
  {
   "cell_type": "markdown",
   "metadata": {},
   "source": [
    "Sehr schön. Jetzt können wir viel größere Zahlen eingeben und erhalten nur eine Ausgabe."
   ]
  },
  {
   "cell_type": "code",
   "execution_count": 30,
   "metadata": {},
   "outputs": [
    {
     "data": {
      "text/plain": [
       "0"
      ]
     },
     "execution_count": 30,
     "metadata": {},
     "output_type": "execute_result"
    }
   ],
   "source": [
    "siebter_algo(127)"
   ]
  },
  {
   "cell_type": "markdown",
   "metadata": {},
   "source": [
    "Bevor wir zum Schluss kommen, wollen wir unseren Code etwas vereinfachen und statt einer Zahl eine Aussage in Form von True oder False ausgeben. True für \"es ist eine Primzahl\" und False für \"es ist keine Primzahl\"."
   ]
  },
  {
   "cell_type": "code",
   "execution_count": 40,
   "metadata": {},
   "outputs": [],
   "source": [
    "def achter_algo(links):\n",
    "\n",
    "    rechte_zahlen = range(2, links)\n",
    "    ausgabe = 0\n",
    "    \n",
    "    for rechts in rechte_zahlen:\n",
    "        ergebnis = links % rechts\n",
    "\n",
    "        if ergebnis == 0:         \n",
    "            ausgabe += 1\n",
    "            \n",
    "    if ausgabe == 0:\n",
    "        ausgabe = print(links,'ist eine Primzahl')\n",
    "    else:\n",
    "        ausgabe = print(links,'ist keine Primzahl')        \n",
    "    return ausgabe"
   ]
  },
  {
   "cell_type": "code",
   "execution_count": 41,
   "metadata": {},
   "outputs": [
    {
     "name": "stdout",
     "output_type": "stream",
     "text": [
      "19 ist eine Primzahl\n"
     ]
    }
   ],
   "source": [
    "achter_algo(19)"
   ]
  },
  {
   "cell_type": "code",
   "execution_count": 42,
   "metadata": {},
   "outputs": [
    {
     "name": "stdout",
     "output_type": "stream",
     "text": [
      "127 ist eine Primzahl\n"
     ]
    }
   ],
   "source": [
    "achter_algo(127)"
   ]
  },
  {
   "cell_type": "code",
   "execution_count": 43,
   "metadata": {},
   "outputs": [
    {
     "name": "stdout",
     "output_type": "stream",
     "text": [
      "12 ist keine Primzahl\n"
     ]
    }
   ],
   "source": [
    "achter_algo(12)"
   ]
  },
  {
   "cell_type": "markdown",
   "metadata": {},
   "source": [
    "Beachte, dass wir die else-Anweisungen vollständig entfernt haben. Denn in den Fällen, in denen die linke Zahl nicht durch die rechte Zahl teilbar ist, unternehmen wir nichts. Mit anderen Worten: Immer wenn das Produkt der Modulus-Operation nicht Null ist, tun wir nichts. Deshalb genügt es, die if-Anweisung ohne die else-Anweisung zu haben. Das ist ganz normal."
   ]
  },
  {
   "cell_type": "markdown",
   "metadata": {},
   "source": [
    "### Teil 4 Zusammenfassung\n",
    "\n",
    "- Im Allgemeinen sind Computerprogramme auf die Automatisierung von Prozessen ausgerichtet.  \n",
    "- Schleifen sind eine sehr effektive Methode zur Automatisierung.  \n",
    "- Mit kleinen Änderungen an unserem Code können wir große Verbesserungen der Leistungsfähigkeit erzielen.  \n",
    "- Manchmal können wir mit weniger Code mehr erreichen!  \n",
    "- Es ist sehr bequem, Werte in Variablen zu speichern um sie später wiederzuverwenden.  \n",
    "- Der Arbeitsspeicher eines Computers ist nicht wie das menschliche Gedächtnis und auch nicht wie ein Bankschließfach.  \n",
    "- Jeder beliebige Wert kann im Speicher abgelegt werden.   \n",
    "- Zahlen können automatisch mit der Funktion `range` generiert werden.  \n",
    "- Es ist sinnvoll, neue Konzepte zu lernen, indem man Dinge schrittweise verbessert.  \n",
    "\n",
    "Wir haben große Fortschritte gemacht! Jetzt ist es an der Zeit, Schluss zu machen. Im nächsten Teil geht es dann richtig zur Sache: Wir suchen nach Primzahlen! Mit den Fähigkeiten, die Sie bisher gelernt haben, tun Sie schon vieles, was den Alltag fortgeschrittener Programmierer und Datenwissenschaftler ausmacht."
   ]
  },
  {
   "cell_type": "markdown",
   "metadata": {},
   "source": [
    "<img width='600px' align='left' src='https://i.gifer.com/5iOy.gif'>"
   ]
  }
 ],
 "metadata": {
  "kernelspec": {
   "display_name": "Python 3",
   "language": "python",
   "name": "python3"
  },
  "language_info": {
   "codemirror_mode": {
    "name": "ipython",
    "version": 3
   },
   "file_extension": ".py",
   "mimetype": "text/x-python",
   "name": "python",
   "nbconvert_exporter": "python",
   "pygments_lexer": "ipython3",
   "version": "3.11.5"
  }
 },
 "nbformat": 4,
 "nbformat_minor": 1
}
