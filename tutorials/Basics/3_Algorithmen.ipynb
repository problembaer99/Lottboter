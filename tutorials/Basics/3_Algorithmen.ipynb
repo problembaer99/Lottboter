{
 "cells": [
  {
   "cell_type": "markdown",
   "metadata": {},
   "source": [
    "# NUMERISCHES RECHNEN MACHT SPASS"
   ]
  },
  {
   "cell_type": "markdown",
   "metadata": {},
   "source": [
    "### Eine Einführung zu den Grundlagen der Informatik und des numerischen Rechnens für alle Altersgruppen\n",
    "---"
   ]
  },
  {
   "cell_type": "markdown",
   "metadata": {},
   "source": [
    "# ÜBERBLICK ÜBER TEIL 3"
   ]
  },
  {
   "cell_type": "markdown",
   "metadata": {},
   "source": [
    "In diesem dritten Teil werden wir uns darauf konzentrieren, das, was wir in Teil 1 und Teil 2 dieser Reihe gelernt haben, in die Praxis umzusetzen. Wir werden uns darauf konzentrieren, zu verstehen, was Algorithmen sind, und einen eigenen Algorithmus erstellen (für die Suche nach Primzahlen). Zur Erinnerung aus Teil 1: Primzahlen sind die Zahlen, aus denen alle anderen Zahlen bestehen. Das bedeutet auch, dass jede Zahl, die nur durch 1 oder sich selbst teilbar ist, eine Primzahl ist. Folglich ist jede Zahl, die durch eine andere Zahl als 1 oder sich selbst teilbar ist, keine Primzahl."
   ]
  },
  {
   "cell_type": "markdown",
   "metadata": {},
   "source": [
    "<img align='left' src='https://media.giphy.com/media/10ZCVXkzHM3VV6/source.gif'>"
   ]
  },
  {
   "cell_type": "markdown",
   "metadata": {},
   "source": [
    "In einer Fabrik gibt es etwas, das reinkommt, einen Prozess, der dazwischen liegt, und etwas, das herauskommt. Algorithmen sind der Teil in der Mitte, wo ein Prozess stattfindet, um das, was reinkommt, in das umzuwandeln, was rausgeht."
   ]
  },
  {
   "cell_type": "markdown",
   "metadata": {},
   "source": [
    "Übrigens: Die Bezeichnung [Algorithmus](https://de.wikipedia.org/wiki/Algorithmus) ist vom Namen des Mathematikers [Algorismi](https://de.wikipedia.org/wiki/Al-Chwarizmi) aus dem 8. Jahrhundert abgeleitet.\n",
    "\n",
    "<img align='left' width=\"200\" src='https://upload.wikimedia.org/wikipedia/commons/1/11/1983_CPA_5426_%281%29.png'>"
   ]
  },
  {
   "cell_type": "markdown",
   "metadata": {},
   "source": [
    "# Teil 3 : Das Leben eines Algorithmus"
   ]
  },
  {
   "cell_type": "markdown",
   "metadata": {},
   "source": [
    "Mit dem, was wir bereits gelernt haben, wollen wir einen sehr einfachen Algorithmus erstellen. Ein Algorithmus, der zwei Zahlen nimmt und herausfindet, ob die erste Zahl (linke Zahl), die wir eingeben, durch die zweite Zahl (rechte Zahl), die wir eingeben, teilbar ist. Algorithmen werden manchmal \"Algos\" genannt und wir werden diese Abkürzung von nun an verwenden."
   ]
  },
  {
   "cell_type": "markdown",
   "metadata": {},
   "source": [
    "### 3.1. Erstellen eines einfachen Algorithmus"
   ]
  },
  {
   "cell_type": "code",
   "execution_count": null,
   "metadata": {},
   "outputs": [],
   "source": [
    "def erster_algo(links, rechts):\n",
    "    \n",
    "    links % rechts"
   ]
  },
  {
   "cell_type": "markdown",
   "metadata": {},
   "source": [
    "Now that we have created our function, which contains an algoritm that finds out if the left number is divisible by the right, you might remember that we have to call it to get the output."
   ]
  },
  {
   "cell_type": "code",
   "execution_count": null,
   "metadata": {},
   "outputs": [],
   "source": [
    "erster_algo(7, 2)"
   ]
  },
  {
   "cell_type": "markdown",
   "metadata": {},
   "source": [
    "Wie kommt es, dass wir kein Ergebnis erhalten haben, obwohl wir scheinbar alles richtig gemacht haben? Eigentlich ist dies ein erwartetes Verhalten der Funktion, denn wir sagen nicht, dass wir etwas ausdrucken wollen. Der Computer hat keine Möglichkeit zu wissen, dass wir etwas ausdrucken wollen. Stattdessen führt er stillschweigend die Modulus-Operation aus. Dies lässt sich leicht beheben, indem wir unsere Funktion leicht abändern."
   ]
  },
  {
   "cell_type": "code",
   "execution_count": null,
   "metadata": {},
   "outputs": [],
   "source": [
    "def erster_algo(links, rechts):\n",
    "    \n",
    "    print(links % rechts)"
   ]
  },
  {
   "cell_type": "code",
   "execution_count": null,
   "metadata": {},
   "outputs": [],
   "source": [
    "erster_algo(8, 4)"
   ]
  },
  {
   "cell_type": "markdown",
   "metadata": {},
   "source": [
    "Schön, jetzt funktioniert es. Bevor wir weitermachen, sehen wir uns eine bessere Methode an, um das Gleiche zu erreichen. Nicht immer wollen wir etwas ausgeben, deshalb ist es besser, `return` (=Zurückgabe) am Ende der Funktion zu verwenden. Return bedeutet nur, dass wir irgendetwas aus der Funktion ausspucken wollen, wenn sie ihre Arbeit erledigt hat. Im Gegensatz zu `print`, das nur etwas auf dem Bildschirm ausgibt, kann die Ausgabe von `return` als Eingabe für eine andere Funktion verwendet werden. Später werden Sie mehr darüber erfahren."
   ]
  },
  {
   "cell_type": "code",
   "execution_count": null,
   "metadata": {},
   "outputs": [],
   "source": [
    "def erster_algo(links, rechts):\n",
    "    \n",
    "    return links % rechts"
   ]
  },
  {
   "cell_type": "code",
   "execution_count": null,
   "metadata": {},
   "outputs": [],
   "source": [
    "erster_algo(8, 4)"
   ]
  },
  {
   "cell_type": "markdown",
   "metadata": {},
   "source": [
    "Wie Du siehst, verhält sich dies genau so, wie wir es wollen, obwohl wir `print` nicht mehr verwenden. Behalte dies im Hinterkopf, es ist eine der am häufigsten verwendeten Methoden in der Python-Programmierung. Gehen wir ein paar Beispiele durch, wie wir unsere Funktion und den darin enthaltenen Algorithmus verwenden könnten."
   ]
  },
  {
   "cell_type": "code",
   "execution_count": null,
   "metadata": {},
   "outputs": [],
   "source": [
    "erster_algo(5, 2)"
   ]
  },
  {
   "cell_type": "code",
   "execution_count": null,
   "metadata": {},
   "outputs": [],
   "source": [
    "erster_algo(15, 3)"
   ]
  },
  {
   "cell_type": "markdown",
   "metadata": {},
   "source": [
    "Wir könnten auch viel größere Zahlen eingeben."
   ]
  },
  {
   "cell_type": "code",
   "execution_count": null,
   "metadata": {},
   "outputs": [],
   "source": [
    "erster_algo(1523434234234, 234323)"
   ]
  },
  {
   "cell_type": "code",
   "execution_count": null,
   "metadata": {},
   "outputs": [],
   "source": [
    "erster_algo(32942098, 234323)"
   ]
  },
  {
   "cell_type": "markdown",
   "metadata": {},
   "source": [
    "Wie Du siehst, erhalten wir unabhängig davon, welche Zahlen wir als Eingabe verwenden, immer genau das, was erwartet wird: den Rest des Modulus. Mit anderen Worten, wir sehen immer, was übrig bleibt, nachdem wir die linke Zahl durch die rechte Zahl geteilt haben. Wenden wir nun etwas boolesche Logik auf unseren Algorithmus an."
   ]
  },
  {
   "cell_type": "code",
   "execution_count": null,
   "metadata": {},
   "outputs": [],
   "source": [
    "def zweiter_algo(links, rechts):\n",
    "    \n",
    "    return links % rechts == 0"
   ]
  },
  {
   "cell_type": "code",
   "execution_count": null,
   "metadata": {},
   "outputs": [],
   "source": [
    "erster_algo(8, 4), zweiter_algo(8, 4)"
   ]
  },
  {
   "cell_type": "code",
   "execution_count": null,
   "metadata": {},
   "outputs": [],
   "source": [
    "erster_algo(30, 2), zweiter_algo(30, 2)"
   ]
  },
  {
   "cell_type": "code",
   "execution_count": null,
   "metadata": {},
   "outputs": [],
   "source": [
    "erster_algo(7, 5), zweiter_algo(7, 5)"
   ]
  },
  {
   "cell_type": "markdown",
   "metadata": {},
   "source": [
    "### 3.2. Bedingte Anweisungen"
   ]
  },
  {
   "cell_type": "markdown",
   "metadata": {},
   "source": [
    "Eines der wichtigsten und am häufigsten verwendeten Werkzeuge von Programmierern und Datenwissenschaftlern sind bedingte Anweisungen. Am einfachsten lassen sich bedingte Anweisungen verstehen, wenn man sich eine Anweisung wie die folgende vorstellt:"
   ]
  },
  {
   "cell_type": "markdown",
   "metadata": {},
   "source": [
    "***\"Ich gehe zum Fußballspielen, wenn es nicht regnet\"***"
   ]
  },
  {
   "cell_type": "markdown",
   "metadata": {},
   "source": [
    "Wie Du siehst, handelt es sich um zwei boolesche Aussagen in einem Satz. Es gibt zwei Möglichkeiten: Es wird regnen oder nicht. Wenn \"es wird regnen\" wahr ist, dann ist \"geh Fußball spielen\" falsch. Genau so funktionieren bedingte Aussagen im Programmierkontext. Wie alles andere, was Sie bisher gelernt haben, sind bedingte Anweisungen in Python unglaublich einfach zu verwenden. Schauen wir uns ein Beispiel an."
   ]
  },
  {
   "cell_type": "code",
   "execution_count": null,
   "metadata": {},
   "outputs": [],
   "source": [
    "if 1 == 1: \n",
    "    \n",
    "    print(\"Hallo Welt\")"
   ]
  },
  {
   "cell_type": "markdown",
   "metadata": {},
   "source": [
    "In diesem Beispiel sagen wir nur, dass wir, wenn 1 gleich 1 ist, was wir wissen, dass es wahr ist, \"Hallo Welt\" ausgeben. Wir wissen genau, was wir zu erwarten haben, und das ist ein wichtiges Prinzip bei bedingten Anweisungen: Wir sollten genau wissen, was wir erwarten, wenn wir sie schreiben! Das Gleiche gilt in umgekehrter Richtung."
   ]
  },
  {
   "cell_type": "code",
   "execution_count": null,
   "metadata": {},
   "outputs": [],
   "source": [
    "if 1 == 2: \n",
    "    \n",
    "    print(\"Hallo Welt\")"
   ]
  },
  {
   "cell_type": "markdown",
   "metadata": {},
   "source": [
    "Wir wissen, dass 1 nicht 2 ist, also wissen wir auch, dass es keinen Ausdruck geben wird.\n",
    "\n",
    "Führen wir eine allgemeine Fortsetzung von `if` ein, die `else` heißt. Der beste Weg, dies anhand unseres vorherigen Beispiels zu verstehen, ist eine Anweisung wie die folgende:"
   ]
  },
  {
   "cell_type": "markdown",
   "metadata": {},
   "source": [
    "<i>**\"Ich gehe zum Fußballspielen, wenn es nicht regnet, sonst spiele ich Playstation\"**</i>"
   ]
  },
  {
   "cell_type": "markdown",
   "metadata": {},
   "source": [
    "Hier fügen wir eine weitere Komponente zu unserer bedingten Anweisung hinzu: Wenn es regnet und wir deshalb nicht Fußball spielen gehen, werden wir stattdessen Playstation spielen. Schauen wir uns an, wie das in Python aussieht:"
   ]
  },
  {
   "cell_type": "code",
   "execution_count": null,
   "metadata": {},
   "outputs": [],
   "source": [
    "if 1 == 1: \n",
    "    \n",
    "    print(\"Hallo Welt\")\n",
    "    \n",
    "else: \n",
    "    \n",
    "    print(\"Tschüß Welt\")"
   ]
  },
  {
   "cell_type": "code",
   "execution_count": null,
   "metadata": {},
   "outputs": [],
   "source": [
    "if 1 == 2: \n",
    "    \n",
    "    print(\"Hallo Welt\")\n",
    "    \n",
    "else: \n",
    "    \n",
    "    print(\"Tschüß Welt\")"
   ]
  },
  {
   "cell_type": "markdown",
   "metadata": {},
   "source": [
    "An dieser Stelle sollten wir einige der Konzepte, die wir gelernt haben, in etwas einfließen lassen."
   ]
  },
  {
   "cell_type": "code",
   "execution_count": null,
   "metadata": {},
   "outputs": [],
   "source": [
    "def dritter_algo(links, rechts):\n",
    "    \n",
    "    if links % rechts == 0:\n",
    "        return True\n",
    "    \n",
    "    else: \n",
    "        return False"
   ]
  },
  {
   "cell_type": "markdown",
   "metadata": {},
   "source": [
    "Wie Du sehen kannst geben wir <code>True</code> (Wahr) zurück, wenn das Ergebnis 0 ist und <code>False</code> (Falsch), wenn nicht."
   ]
  },
  {
   "cell_type": "code",
   "execution_count": null,
   "metadata": {},
   "outputs": [],
   "source": [
    "dritter_algo(8, 2)"
   ]
  },
  {
   "cell_type": "code",
   "execution_count": null,
   "metadata": {},
   "outputs": [],
   "source": [
    "dritter_algo(8, 3)"
   ]
  },
  {
   "cell_type": "markdown",
   "metadata": {},
   "source": [
    "Bevor wir uns dem nächsten Abschnitt zuwenden, in dem es um die Generierung von Zahlen geht, betrachten wir eine bedingte Anweisung mit einer weiteren Bedingung."
   ]
  },
  {
   "cell_type": "markdown",
   "metadata": {},
   "source": [
    "<i>**\"Wenn es nicht regnet, gehe ich Fußball spielen, und wenn es nur leicht regnet, gehe ich trotzdem spazieren, ansonsten spiele ich Playstation.\"**</i>"
   ]
  },
  {
   "cell_type": "markdown",
   "metadata": {},
   "source": [
    "Jetzt haben wir einen Fall, bei dem sich die Stärke des Regens auf das Ergebnis auswirkt. Wenn es gar nicht regnet, gehen wir Fußball spielen, wenn es ein bisschen regnet, gehen wir spazieren, aber sonst spielen wir Playstation. Dafür werden wir wieder unsere Funktion ändern.  \n",
    "\n",
    "Jetzt fügen wir eine \"elif\"-Klausel hinzu, was nur eine andere Art ist, \"if\" zwischen \"if\" und \"else\" zu sagen. Wir werden auch die Idee von Kommentaren einführen, wo wir innerhalb unserer Funktion menschliche Sprache verwenden, um zu erklären, was Teile des Codes tun. Alles, was mit `#` beginnt, gilt in Python als Kommentar. Es bedeutet, dass ein Teil des Codes nicht zusammen mit anderen ausgeführt wird. Mit anderen Worten: Kommentare haben keinen Einfluss auf die Funktionsweise oder die Ausgabe der Funktion."
   ]
  },
  {
   "cell_type": "code",
   "execution_count": null,
   "metadata": {},
   "outputs": [],
   "source": [
    "def dritter_algo(links, rechts):\n",
    "    \n",
    "    # es regnet nicht\n",
    "    if links % rechts == 0:\n",
    "        return 'Fußballspielen'\n",
    "    \n",
    "    # es regnet es wenig\n",
    "    elif links % rechts == 1: \n",
    "        return 'Spazierengehen'\n",
    "    \n",
    "    # es regnet stark\n",
    "    else: \n",
    "        return 'Playstation spielen'"
   ]
  },
  {
   "cell_type": "code",
   "execution_count": null,
   "metadata": {},
   "outputs": [],
   "source": [
    "dritter_algo(8, 2)"
   ]
  },
  {
   "cell_type": "code",
   "execution_count": null,
   "metadata": {},
   "outputs": [],
   "source": [
    "dritter_algo(9, 4)"
   ]
  },
  {
   "cell_type": "code",
   "execution_count": null,
   "metadata": {},
   "outputs": [],
   "source": [
    "dritter_algo(25, 11)"
   ]
  },
  {
   "cell_type": "markdown",
   "metadata": {},
   "source": [
    "In diesem Beispiel entscheiden wir, ob wir Fußball spielen werden oder nicht. Wenn die Ausgabe 0 ist, bedeutet das, dass es nicht regnet und wir gehen spielen, und die Ausgabe ist True. Wenn es ein wenig regnet, gehen wir stattdessen spazieren und die Ausgabe ist Falsch, und wenn es mehr als 0 ist, spielen wir Playstation und die Ausgabe ist auch Falsch. Das war's, Sie verstehen jetzt bedingte Anweisungen, die nicht nur ein Schlüsselkonzept in der Sprache Python sind, sondern auch das wichtigste Mittel, mit dem wir Computer anweisen und ihnen sagen, was sie tun sollen. \n",
    "\n",
    "In der nächsten Folge werden wir weiter auf dem aufbauen, was wir hier gelernt haben, und Sie werden mit Ihren neuen Fähigkeiten einfache, aber weitaus mächtigere Algorithmen bauen."
   ]
  },
  {
   "cell_type": "markdown",
   "metadata": {},
   "source": [
    "<hr>"
   ]
  },
  {
   "cell_type": "markdown",
   "metadata": {},
   "source": [
    "### Teil 3 Zusammenfassung\n",
    "\n",
    "- Algorithmen sind wie das Innere von Fabriken \n",
    "- Algorithmen verarbeiten Eingaben, um Ausgaben zu erzeugen\n",
    "- Bedingte Anweisungen sind ein Werkzeug, um boolesche Logik in Aktion zu setzen\n",
    "- Bedingte Anweisungen sind Teil der \"Ablaufsteuerung\".\n",
    "- Flusskontrollen geben uns die Möglichkeit, Regeln für Computerprogramme zu erstellen.\n",
    "- Die drei bedingten Anweisungen in Python sind `if`, `else` und `elif`.\n",
    "- Auch `if` allein kann verwendet werden, um eine bedingte Anweisung zu erstellen\n",
    "\n",
    "Wir haben große Fortschritte gemacht! Es ist Zeit, für heute Schluss zu machen, und im nächsten Teil geht es dann richtig zur Sache, nämlich mit der Suche nach Primzahlen! Mit den Fähigkeiten, die Sie bisher gelernt haben, tun Sie schon vieles, was den Alltag von fortgeschrittenen Programmierern und Datenwissenschaftlern ausmacht."
   ]
  },
  {
   "cell_type": "markdown",
   "metadata": {},
   "source": [
    "<img width='600px' align='left' src='https://img.buzzfeed.com/buzzfeed-static/static/2014-01/enhanced/webdr03/22/3/anigif_enhanced-buzz-18421-1390379498-12.gif'>"
   ]
  }
 ],
 "metadata": {
  "kernelspec": {
   "display_name": "Python 3",
   "language": "python",
   "name": "python3"
  },
  "language_info": {
   "codemirror_mode": {
    "name": "ipython",
    "version": 3
   },
   "file_extension": ".py",
   "mimetype": "text/x-python",
   "name": "python",
   "nbconvert_exporter": "python",
   "pygments_lexer": "ipython3",
   "version": "3.11.5"
  }
 },
 "nbformat": 4,
 "nbformat_minor": 1
}
