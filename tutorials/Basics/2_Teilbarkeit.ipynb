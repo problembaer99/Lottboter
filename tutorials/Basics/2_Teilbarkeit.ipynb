{
 "cells": [
  {
   "cell_type": "markdown",
   "metadata": {},
   "source": [
    "# NUMERISCHES RECHNEN MACHT SPASS"
   ]
  },
  {
   "cell_type": "markdown",
   "metadata": {},
   "source": [
    "### Eine Einführung zu den Grundlagen der Informatik und des numerischen Rechnens für alle Altersgruppen\n",
    "---"
   ]
  },
  {
   "cell_type": "markdown",
   "metadata": {},
   "source": [
    "# ÜBERBLICK"
   ]
  },
  {
   "cell_type": "markdown",
   "metadata": {},
   "source": [
    "In diesem zweiten Teil werden wir uns darauf konzentrieren, das, was wir in Teil 1 gelernt haben, in die Praxis umzusetzen. Außerdem erfahren wir mehr über Primzahlen und warum sie nicht nur ein faszinierendes Problem sind, sondern auch eine gute Möglichkeit, etwas über Computer, Programmierung und Mathematik zu lernen."
   ]
  },
  {
   "cell_type": "markdown",
   "metadata": {},
   "source": [
    "<img width='400px' align='left' src='https://paulstepahin.files.wordpress.com/2012/12/table.png?w=500&h=327'>"
   ]
  },
  {
   "cell_type": "markdown",
   "metadata": {},
   "source": [
    "Zur Erinnerung aus Teil 1: \n",
    "- Primzahlen sind die Zahlen, aus denen alle anderen Zahlen bestehen.\n",
    "- Das bedeutet, dass jede Zahl, die nur durch 1 oder sich selbst teilbar ist, eine Primzahl ist. \n",
    "- Folglich ist jede Zahl, die durch eine andere Zahl als 1 oder sich selbst teilbar ist, keine Primzahl."
   ]
  },
  {
   "cell_type": "markdown",
   "metadata": {},
   "source": [
    "# Teil 2 : Einführung in die Primzahlen"
   ]
  },
  {
   "cell_type": "markdown",
   "metadata": {},
   "source": [
    "Die Sprache Python ist ein sehr mächtiges Werkzeug für die Erstellung von Computerprogrammen aller Art, aber heute werden wir uns nur darauf konzentrieren, wie man einige sehr grundlegende Techniken und Ideen ausführt, die in allen Computerprogrammiersprachen vorkommen."
   ]
  },
  {
   "cell_type": "markdown",
   "metadata": {},
   "source": [
    "### 1.1 Teilbarkeit von Zahlen"
   ]
  },
  {
   "cell_type": "markdown",
   "metadata": {},
   "source": [
    "Teilbarkeit bedeutet, dass eine bestimmte Zahl durch eine andere Zahl so teilbar ist, dass kein Rest übrig bleibt. Zum Beispiel: \n",
    "\n",
    "- 2 ist durch 2 teilbar, weil das Ergebnis (der Quotient) 1 ist, was eine ganze Zahl ist.\n",
    "- 4 ist durch 2 teilbar, weil der Quotient 2 ist, was eine ganze Zahl ist\n",
    "- 5 ist nicht durch 2 teilbar, weil der Quotient 2,5 und keine ganze Zahl ist\n",
    "- 10 ist durch 5 teilbar, weil der Quotient 2 ist, was eine ganze Zahl ist.\n",
    "\n",
    "Da die Definition der Primzahl mit der Teilbarkeit zusammenhängt, werden wir nun einige Beispiele durchgehen, bei denen wir einfach Zahlen durch andere Zahlen teilen, und sehen, was wir dabei lernen können..."
   ]
  },
  {
   "cell_type": "markdown",
   "metadata": {},
   "source": [
    "### 1.2. Operationen zur Division"
   ]
  },
  {
   "cell_type": "markdown",
   "metadata": {},
   "source": [
    "Fangen wir mit etwas sehr Einfachem an. Nehmen wir eine Zahl, zum Beispiel 8, und schauen wir, ob wir sie durch andere Zahlen als 1 und sich selbst (8) teilen können. Ich denke, du kennst die Antwort schon, also könnte ich dich einfach fragen, ob 8 eine Primzahl ist, und du könntest leicht antworten. Aber Computer sind nicht so, wir können einen Computer nicht direkt nach etwas fragen. In diesem Fall könnten wir so vorgehen:"
   ]
  },
  {
   "cell_type": "code",
   "execution_count": null,
   "metadata": {},
   "outputs": [],
   "source": [
    "8 / 2"
   ]
  },
  {
   "cell_type": "markdown",
   "metadata": {},
   "source": [
    "Wir beginnen damit, die Zahl durch die kleinstmögliche Zahl zu dividieren, und stellen in diesem Fall sofort fest, dass die Zahl 8 keine Primzahl ist. Versuchen wir ein anderes Beispiel, die Zahl 9. Auch hier beginnen wir damit, sie durch Zwei zu teilen."
   ]
  },
  {
   "cell_type": "code",
   "execution_count": null,
   "metadata": {},
   "outputs": [],
   "source": [
    "9 / 2"
   ]
  },
  {
   "cell_type": "markdown",
   "metadata": {},
   "source": [
    "Da wir keine ganze Zahl als Ergebnis erhalten, können wir sagen, dass 9 nicht durch zwei teilbar ist und aufgrund der bisherigen Informationen eine Primzahl sein könnte. Versuchen wir durch die Drei als nächst größere Zahl zu teilen."
   ]
  },
  {
   "cell_type": "code",
   "execution_count": null,
   "metadata": {},
   "outputs": [],
   "source": [
    "9 / 3"
   ]
  },
  {
   "cell_type": "markdown",
   "metadata": {},
   "source": [
    "Da wir eine ganze Zahl als Quotient erhalten, in diesem Fall 3, wissen wir mit Sicherheit, dass 9 keine Primzahl ist. Wäre sie eine Primzahl, könnten wir sie nicht durch 3 oder eine andere Zahl als sich selbst und die Zahl 1 teilen. Das ist alles, was es über Primzahlen zu wissen gibt. \n",
    "\n",
    "An dieser Stelle wirst Du dich vielleicht fragen, warum wir so offensichtliche Beispiele verwenden? Das ist eines der wichtigsten Konzepte, die man in Bezug auf Computer verstehen muss: ***Sie können nichts verstehen und nichts ist für sie offensichtlich.***\n",
    "\n",
    "Versuchen wir es mit einer weiteren, diesmal mit der Nummer 7."
   ]
  },
  {
   "cell_type": "code",
   "execution_count": null,
   "metadata": {},
   "outputs": [],
   "source": [
    "# zuerst die Zwei\n",
    "7 / 2.0"
   ]
  },
  {
   "cell_type": "code",
   "execution_count": null,
   "metadata": {},
   "outputs": [],
   "source": [
    "# dann die Drei\n",
    "7 / 3.0"
   ]
  },
  {
   "cell_type": "code",
   "execution_count": null,
   "metadata": {},
   "outputs": [],
   "source": [
    "# ...\n",
    "7 / 4.0"
   ]
  },
  {
   "cell_type": "code",
   "execution_count": null,
   "metadata": {},
   "outputs": [],
   "source": [
    "7 / 5.0"
   ]
  },
  {
   "cell_type": "code",
   "execution_count": null,
   "metadata": {},
   "outputs": [],
   "source": [
    "7 / 6.0"
   ]
  },
  {
   "cell_type": "markdown",
   "metadata": {},
   "source": [
    "**Endlich! Wir haben unsere erste Primzahl gefunden! :)**"
   ]
  },
  {
   "cell_type": "markdown",
   "metadata": {},
   "source": [
    "Python stellt uns ein sehr nettes Werkzeug zur Verfügung, um dasselbe auf eine nützlichere Weise zu tun, es ist ein mathematischer Operator namens \"Modulus\". Schauen wir uns zunächst ein paar Beispiele an, bevor wir ihn genauer erklären."
   ]
  },
  {
   "cell_type": "code",
   "execution_count": null,
   "metadata": {},
   "outputs": [],
   "source": [
    "# % = Modulus\n",
    "8 % 2"
   ]
  },
  {
   "cell_type": "code",
   "execution_count": null,
   "metadata": {},
   "outputs": [],
   "source": [
    "8 % 3"
   ]
  },
  {
   "cell_type": "code",
   "execution_count": null,
   "metadata": {},
   "outputs": [],
   "source": [
    "9 % 2"
   ]
  },
  {
   "cell_type": "code",
   "execution_count": null,
   "metadata": {},
   "outputs": [],
   "source": [
    "9 % 3"
   ]
  },
  {
   "cell_type": "code",
   "execution_count": null,
   "metadata": {},
   "outputs": [],
   "source": [
    "7 % 2"
   ]
  },
  {
   "cell_type": "markdown",
   "metadata": {},
   "source": [
    "**Modulus sagt uns, ob eine bestimmte Zahl durch eine andere Zahl teilbar ist!**\n",
    "\n",
    "Wenn das Ergebnis 0 ist, wissen wir, dass die Zahl auf der linken Seite durch die Zahl auf der rechten Seite ***ohne Rest*** teilbar ist. \n",
    "\n",
    "Ist das Ergebnis etwas anderes als 0, d.h. es gibt eine Rest, so ist die Zahl links nicht durch die Zahl rechts teilbar. \n",
    "\n",
    "Modulus ist sehr nützlich und wird selbst von fortgeschrittenen Programmierern häufig verwendet, und zwar oft in Zusammenhängen, die nichts mit Mathematik zu tun haben. Bald werden Sie mehr darüber erfahren."
   ]
  },
  {
   "cell_type": "markdown",
   "metadata": {},
   "source": [
    "### 1.3. Boolesche Logik"
   ]
  },
  {
   "cell_type": "markdown",
   "metadata": {},
   "source": [
    "Manchmal hört man das Wort \"binär\" im Zusammenhang mit Computern. Binär bedeutet einfach, dass es zwei Möglichkeiten gibt, 0 und 1. Zum Beispiel kann die Aussage \"es regnet\" ***wahr*** (Englisch: True) oder ***falsch*** (Englisch: False) sein.  \n",
    "\n",
    "Das hat mit der Funktionsweise von Computern zu tun: Die Verarbeitungseinheit (CPU) des Computers besteht aus Milliarden von winzigen Gattern.  \n",
    "Diese winzigen Gatter können nur eine Aktion ausführen, sie können sich öffnen oder schließen. In diesem Zusammenhang gibt es ein mathematisches System, das boolesche Logik genannt wird. Boolesch (benannt nach [George Boole](https://de.wikipedia.org/wiki/George_Boole)) bedeutet dasselbe wie binär, nämlich dass es nur zwei mögliche Zustände gibt.  \n",
    "Statt von Gattern oder 0 und 1 zu sprechen, spricht man in der booleschen Logik von Wahr/True und Falsch/False.  \n",
    "Entweder ist etwas wahr, oder es ist falsch. Wenn man zum ersten Mal von Boolescher Logik hört, klingt das verwirrend, aber eigentlich ist es ganz einfach. "
   ]
  },
  {
   "cell_type": "markdown",
   "metadata": {},
   "source": [
    "### Vergleichen\n",
    "\n",
    "Der Gleichheitsoperator `==` überprüft ob zwei Werte gleich sind."
   ]
  },
  {
   "cell_type": "code",
   "execution_count": null,
   "metadata": {},
   "outputs": [],
   "source": [
    "1 == 1"
   ]
  },
  {
   "cell_type": "code",
   "execution_count": null,
   "metadata": {},
   "outputs": [],
   "source": [
    "2 == 2"
   ]
  },
  {
   "cell_type": "code",
   "execution_count": null,
   "metadata": {},
   "outputs": [],
   "source": [
    "2 == 3"
   ]
  },
  {
   "cell_type": "code",
   "execution_count": null,
   "metadata": {},
   "outputs": [],
   "source": [
    "True == True"
   ]
  },
  {
   "cell_type": "code",
   "execution_count": null,
   "metadata": {},
   "outputs": [],
   "source": [
    "True == False"
   ]
  },
  {
   "cell_type": "code",
   "execution_count": null,
   "metadata": {},
   "outputs": [],
   "source": [
    "False == False"
   ]
  },
  {
   "cell_type": "markdown",
   "metadata": {},
   "source": [
    "So einfach ist das Grundprinzip. Die Boolesche Logik nutzt auch die Verbindungen ``and`` (\"und\") und ``or`` (\"oder\").\n",
    "\n",
    "> `and` (\"und\") erfordert, daß ***alle*** verbundenen (verknüpften) Bedingungen \"Wahr\" sein müssen, um insgesamt \"Wahr\" zu sein\n",
    "\n",
    "Bsp.: Es ist ein Elefant, wenn \"das Tier sehr groß ist\" und \"das Tier einen Rüssel hat\".\n",
    "- Wenn das Tier nur sehr groß ist, aber keinen Rüssel hat --> kein Elefant (sondern z.B. ein Wal)\n",
    "- Wenn das Tier nur einen Rüssel hat, aber nicht sehr groß ist --> kein Elefant (sondern z.B. ein Schmetterling)\n",
    "- Wenn das Tier nur einen Rüssel hat und sehr groß ist --> Elefant \n",
    "\n",
    "> `or` (\"oder\") erfordert, daß ***eine oder mehr*** der verbundenen (verknüpften) Bedingungen \"Wahr\" sein muß, um insgesamt \"Wahr\" zu sein\n",
    "\n",
    "Bsp.: Es ist eine Katze, wenn \"das Tier miaut\" oder \"das Tier schnurrt\".\n",
    "- Wenn das Tier nur schnurrt, aber (gerade) nicht miaut --> Katze\n",
    "- Wenn das Tier nur miaut, aber (gerade) nicht schnurrt --> Katze\n",
    "- Wenn das Tier miaut und schnurrt --> Katze"
   ]
  },
  {
   "cell_type": "code",
   "execution_count": null,
   "metadata": {},
   "outputs": [],
   "source": [
    "1 == 1 and 2 == 2"
   ]
  },
  {
   "cell_type": "code",
   "execution_count": null,
   "metadata": {},
   "outputs": [],
   "source": [
    "1 == 1 and 2 == 3"
   ]
  },
  {
   "cell_type": "code",
   "execution_count": null,
   "metadata": {},
   "outputs": [],
   "source": [
    "1 == 1 or 2 == 3"
   ]
  },
  {
   "cell_type": "code",
   "execution_count": null,
   "metadata": {},
   "outputs": [],
   "source": [
    "True is True and True is False"
   ]
  },
  {
   "cell_type": "markdown",
   "metadata": {},
   "source": [
    "Mit oder sagen wir, dass eine der Optionen wahr ist, und mit und sagen wir, dass beide wahr sind. Wir können auch den umgekehrten Weg gehen und sagen, dass etwas nicht wahr ist. Mit anderen Worten, wir haben zwei Möglichkeiten: Aussagen, die sagen, dass etwas wahr ist, und wenn es tatsächlich wahr ist, erhalten wir die Antwort Wahr, und Aussagen, die sagen, dass etwas nicht wahr ist, und wenn es nicht wahr ist, erhalten wir die Antwort Wahr (und wenn es wahr ist, erhalten wir Falsch)."
   ]
  },
  {
   "cell_type": "markdown",
   "metadata": {},
   "source": [
    "### Vergleichen\n",
    "\n",
    "Der Ungleichheitsoperator `!=` überprüft ob zwei Werte nicht gleich sind."
   ]
  },
  {
   "cell_type": "code",
   "execution_count": null,
   "metadata": {},
   "outputs": [],
   "source": [
    "1 != 1"
   ]
  },
  {
   "cell_type": "code",
   "execution_count": null,
   "metadata": {},
   "outputs": [],
   "source": [
    "2 != 3"
   ]
  },
  {
   "cell_type": "code",
   "execution_count": null,
   "metadata": {},
   "outputs": [],
   "source": [
    "2 != 3 or 5 != 5"
   ]
  },
  {
   "cell_type": "code",
   "execution_count": null,
   "metadata": {},
   "outputs": [],
   "source": [
    "2 != 3 and 5 != 5"
   ]
  },
  {
   "cell_type": "markdown",
   "metadata": {},
   "source": [
    "Wir können auch Aussagen kombinieren, die ``==`` und `!=` in sich haben..."
   ]
  },
  {
   "cell_type": "code",
   "execution_count": null,
   "metadata": {},
   "outputs": [],
   "source": [
    "1 == 1 or 2 != 3"
   ]
  },
  {
   "cell_type": "markdown",
   "metadata": {},
   "source": [
    "Wir  können auch beliebig viele solcher Aussagen miteinander verknüpfen."
   ]
  },
  {
   "cell_type": "code",
   "execution_count": null,
   "metadata": {},
   "outputs": [],
   "source": [
    "5 % 2 == 0 and 5 % 3 == 0 and 5 % 4 == 0"
   ]
  },
  {
   "cell_type": "markdown",
   "metadata": {},
   "source": [
    "Siehst du, was wir gerade getan haben? Wir haben bestätigt, dass 5 eine Primzahl ist. Nimm dir einen Moment Zeit, um zu verstehen, wie wir das gemacht haben.\n",
    "\n",
    "Zur Verdeutlichung: Wir haben bestätigt, dass die Zahl 5 durch keine andere Zahl als 1 und sich selbst teilbar ist. Wie?\n",
    "- Eigentlich sind alle Zahlen durch 1 und sich selbst (5) teilbar.  \n",
    "- Zahlen können nicht durch Zahlen geteilt werden, die größer sind als die Zahl selbst. \n",
    "- Es reicht also, alle Zahlen zwischen 1 und der Zahl selbst zu überprüfen, um die Antwort zu erhalten, ob eine bestimmte Zahl eine Primzahl ist oder nicht.   \n",
    "\n",
    "Das klingt gut, solange es sich um kleine Zahlen handelt, aber wie sieht es aus, wenn wir die gleiche Frage für eine sehr große Zahl beantworten wollen?\n",
    "\n",
    "Weil es so einfach ist, zu sagen, ob kleine Zahlen Primzahlen sind oder nicht, sind Mathematiker im Allgemeinen nur daran interessiert, wirklich große Primzahlen zu finden. Im nächsten Abschnitt erfahren wir, wie groß diese sind, und kommen dann zurück, um zu lernen, wie große Zahlen mit den bereits erlernten Techniken überprüft werden können."
   ]
  },
  {
   "cell_type": "markdown",
   "metadata": {},
   "source": [
    "### 1.4. Wie viele Primzahlen sind bereits bekannt?"
   ]
  },
  {
   "cell_type": "markdown",
   "metadata": {},
   "source": [
    "Die größte Primzahl ist eine wirklich große Zahl. Es ist eine Zahl mit 22.338.618 Ziffern. Um dies noch deutlicher zu machen, um zu sehen, wie groß diese Zahl tatsächlich ist, hat sie jemand für uns ausgedruckt, und sie war größer als ein dickes Buch. Nur eine Zahl, die größer als ein Buch ist!"
   ]
  },
  {
   "cell_type": "markdown",
   "metadata": {},
   "source": [
    "<img align='left' src='https://images-cdn.9gag.com/photo/aX9v40D_700b.jpg'>"
   ]
  },
  {
   "cell_type": "markdown",
   "metadata": {},
   "source": [
    "Einer der leistungsstärksten Computer der Welt konnte nach jahrelanger Arbeit nachweisen, dass es sich tatsächlich um eine Primzahl handelt. Eigentlich ist es nicht nur ein Computer, sondern ein Netzwerk von fast 200.000 Computern, die ihre verfügbaren Ressourcen der Suche nach der nächsten großen Primzahl widmen. Es nennt sich [GIMPS](https://www.mersenne.org/). Das ist doch ziemlich cool, oder?"
   ]
  },
  {
   "cell_type": "markdown",
   "metadata": {},
   "source": [
    "Seien wir realistisch, wir werden mit unserem kleinen, einsamen Computer nicht auf eine so große Zahl kommen. Was wir tun können, ist ein einfaches Programm zu erstellen, das mehr oder weniger das tut, was das gigantische Netzwerk von Computern in GIMPS tut. Fürs Erste machen wir hier Schluss und fahren im nächsten Teil fort, wo wir lernen werden, wie wir die Bausteine, die wir bereits haben, einsetzen und unseren allerersten Algorithmus erstellen. Einen Algorithmus zum Lösen von Primzahlen, um genau zu sein!\n",
    "\n",
    "### Teil 2 Zusammenfassung\n",
    "\n",
    "- Primzahlen im Zusammenhang mit Teilbarkeit\n",
    "- Teilbarkeit bedeutet, dass eine Zahl durch eine andere Zahl ohne Rest geteilt werden kann \n",
    "- Eine Primzahl ist jede Zahl, die nur durch sich selbst und 1 teilbar ist.\n",
    "- Binär bedeutet 1 und 0 oder Wahr und Falsch\n",
    "- Boolesche Logik ist die Binärsprache der Computer \n",
    "- Python gibt uns eine einfach zu bedienende Möglichkeit, Computer zu instruieren\n",
    "- Boolesche Logik-Aussagen beinhalten 'ist', 'ist nicht', 'und' und 'oder'.\n",
    "- Boolesche Aussagen können miteinander verknüpft werden\n",
    "- Boolesche Aussagen geben immer entweder Wahr oder Falsch als Ausgabe zurück.\n",
    "- Es ist im Allgemeinen einfach, Rechenoperationen mit kleinen Zahlen durchzuführen.\n",
    "- Die größte Primzahl ist eine wirklich große Zahl\n",
    "- Sehr große Zahlen erfordern große Netzwerke von Computern, die miteinander verbunden sind.\n",
    "\n",
    "Auch wenn es den Anschein hat, dass wir es mit sehr einfachen Dingen zu tun haben, so haben wir doch bereits einige der wichtigsten Konzepte der Computerprogrammierung behandelt. Sie sind auf dem besten Weg zu wissen, wie man Computern sagt, was sie tun sollen!"
   ]
  },
  {
   "cell_type": "markdown",
   "metadata": {},
   "source": [
    "<img align='left' src='https://media.giphy.com/media/3oz9ZE2Oo9zRC/giphy.gif'>"
   ]
  }
 ],
 "metadata": {
  "kernelspec": {
   "display_name": "Python 3",
   "language": "python",
   "name": "python3"
  },
  "language_info": {
   "codemirror_mode": {
    "name": "ipython",
    "version": 3
   },
   "file_extension": ".py",
   "mimetype": "text/x-python",
   "name": "python",
   "nbconvert_exporter": "python",
   "pygments_lexer": "ipython3",
   "version": "3.11.5"
  }
 },
 "nbformat": 4,
 "nbformat_minor": 1
}
